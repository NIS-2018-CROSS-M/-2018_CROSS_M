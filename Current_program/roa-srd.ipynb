{
  "nbformat": 4,
  "nbformat_minor": 0,
  "metadata": {
    "colab": {
      "name": "vardial.ipynb",
      "version": "0.3.2",
      "provenance": [],
      "collapsed_sections": []
    },
    "kernelspec": {
      "display_name": "Python 3",
      "language": "python",
      "name": "python3"
    },
    "accelerator": "GPU"
  },
  "cells": [
    {
      "metadata": {
        "colab_type": "text",
        "id": "6yPpvWqtFgqG"
      },
      "cell_type": "markdown",
      "source": [
        "## Download varidal files"
      ]
    },
    {
      "metadata": {
        "colab_type": "code",
        "id": "6HftlYTDlaSk",
        "colab": {}
      },
      "cell_type": "code",
      "source": [
        "!wget https://raw.githubusercontent.com/ftyers/vardial-shared-task/master/test/roa-covered"
      ],
      "execution_count": 0,
      "outputs": []
    },
    {
      "metadata": {
        "colab_type": "code",
        "id": "w9sPEAZQlcbl",
        "colab": {}
      },
      "cell_type": "code",
      "source": [
        "!wget https://raw.githubusercontent.com/ftyers/vardial-shared-task/master/train/roa-uncovered"
      ],
      "execution_count": 0,
      "outputs": []
    },
    {
      "metadata": {
        "id": "9j2kAr0SihLv",
        "colab_type": "text"
      },
      "cell_type": "markdown",
      "source": [
        "## Download transliterated files"
      ]
    },
    {
      "metadata": {
        "id": "3D5lZjramOyb",
        "colab_type": "code",
        "colab": {}
      },
      "cell_type": "code",
      "source": [
        "!wget https://raw.githubusercontent.com/NIS-2018-CROSS-M/vardial-shared-task/master/train/roa-uncovered-transliterated"
      ],
      "execution_count": 0,
      "outputs": []
    },
    {
      "metadata": {
        "id": "U9pqDOvXjYTO",
        "colab_type": "code",
        "colab": {}
      },
      "cell_type": "code",
      "source": [
        "!wget https://raw.githubusercontent.com/NIS-2018-CROSS-M/vardial-shared-task/master/test/roa-covered-transliterated"
      ],
      "execution_count": 0,
      "outputs": []
    },
    {
      "metadata": {
        "id": "69IDI1lnnxoD",
        "colab_type": "code",
        "colab": {}
      },
      "cell_type": "code",
      "source": [
        "!head roa-uncovered"
      ],
      "execution_count": 0,
      "outputs": []
    },
    {
      "metadata": {
        "id": "FOBZqVm_n1sl",
        "colab_type": "code",
        "colab": {}
      },
      "cell_type": "code",
      "source": [
        "!head roa-uncovered-transliterated"
      ],
      "execution_count": 0,
      "outputs": []
    },
    {
      "metadata": {
        "id": "aX1346vbjfO-",
        "colab_type": "code",
        "colab": {}
      },
      "cell_type": "code",
      "source": [
        "!head roa-covered"
      ],
      "execution_count": 0,
      "outputs": []
    },
    {
      "metadata": {
        "id": "kCbvJdQ0jmZb",
        "colab_type": "code",
        "colab": {}
      },
      "cell_type": "code",
      "source": [
        "!head roa-covered-transliterated"
      ],
      "execution_count": 0,
      "outputs": []
    },
    {
      "metadata": {
        "colab_type": "text",
        "id": "Cw4eOk9dDnzD"
      },
      "cell_type": "markdown",
      "source": [
        "## Prepare train and test files for morfessor within 5 folds"
      ]
    },
    {
      "metadata": {
        "id": "MmELGn8A1ELG",
        "colab_type": "code",
        "colab": {}
      },
      "cell_type": "code",
      "source": [
        "# wordforms extraction\n",
        "!cut -f2 roa-covered-t > roa-cov"
      ],
      "execution_count": 0,
      "outputs": []
    },
    {
      "metadata": {
        "colab_type": "text",
        "id": "YsLQSMfZDu5p"
      },
      "cell_type": "markdown",
      "source": [
        "### fold 1\n",
        "#### train = head 0.8n; test = tail 0.2n"
      ]
    },
    {
      "metadata": {
        "colab_type": "code",
        "id": "_TpKKcN8BF3d",
        "colab": {}
      },
      "cell_type": "code",
      "source": [
        "# train\n",
        "!head -$(cat roa-cov | python -c 'import sys; print(round(len([line.strip() for line \\\n",
        "in sys.stdin]) * 0.8))') roa-cov > train1.txt\n",
        "!wc -l train1.txt\n",
        "# test\n",
        "!tail -$(cat roa-cov | python -c 'import sys; print(round(len([line.strip() for line \\\n",
        "in sys.stdin]) * 0.2))') roa-cov > test1.txt\n",
        "!wc -l test1.txt\n",
        "# morfessor\n",
        "!morfessor -t train1.txt -T test1.txt > srd_segmented.txt"
      ],
      "execution_count": 0,
      "outputs": []
    },
    {
      "metadata": {
        "id": "H1fD2Xv11ELV",
        "colab_type": "text"
      },
      "cell_type": "markdown",
      "source": [
        "### fold 2\n",
        "#### train = head 0.75n train1 + test1; test = tail 0.25n train1"
      ]
    },
    {
      "metadata": {
        "id": "VyPXAlc31ELX",
        "colab_type": "code",
        "colab": {}
      },
      "cell_type": "code",
      "source": [
        "# train\n",
        "!head -$(cat train1.txt | python -c 'import sys; print(round(len([line.strip() for line \\\n",
        "in sys.stdin]) * 0.75))') train1.txt >> train2.txt && cat test1.txt >> train2.txt\n",
        "!wc -l train2.txt\n",
        "# test\n",
        "!tail -$(cat train1.txt | python -c 'import sys; print(round(len([line.strip() for line \\\n",
        "in sys.stdin]) * 0.25))') train1.txt > test2.txt\n",
        "!wc -l test2.txt\n",
        "# morfessor\n",
        "!morfessor -t train1.txt -T test1.txt >> srd_segmented.txt\n",
        "!wc -l srd_segmented.txt"
      ],
      "execution_count": 0,
      "outputs": []
    },
    {
      "metadata": {
        "id": "JgV6DO3j1ELc",
        "colab_type": "text"
      },
      "cell_type": "markdown",
      "source": [
        "### fold 3\n",
        "#### train = head 0.5n train1 + test1 + test2; test = tail 0.3n train1"
      ]
    },
    {
      "metadata": {
        "id": "kOEAieEo1ELe",
        "colab_type": "code",
        "colab": {}
      },
      "cell_type": "code",
      "source": [
        "# train\n",
        "!head -$(cat train1.txt | python -c 'import sys; print(round(len([line.strip() for line \\\n",
        "in sys.stdin]) * 0.5 - 1))') train1.txt >> train3.txt && cat test1.txt >> train3.txt && cat test2.txt >> train3.txt\n",
        "!wc -l train3.txt\n",
        "# test\n",
        "!head -$(cat train1.txt | python -c 'import sys; print(round(len([line.strip() for line \\\n",
        "in sys.stdin]) * 0.75))') train1.txt | tail -$(wc -l test1.txt | cut -f1 -d' ') > test3.txt\n",
        "!wc -l test3.txt\n",
        "# morfessor\n",
        "!morfessor -t train3.txt -T test3.txt >> srd_segmented.txt\n",
        "!wc -l srd_segmented.txt"
      ],
      "execution_count": 0,
      "outputs": []
    },
    {
      "metadata": {
        "id": "Hwt7R3w81ELk",
        "colab_type": "text"
      },
      "cell_type": "markdown",
      "source": [
        "### fold 4\n",
        "#### train =  tail 0.8n; test = head 0.2n"
      ]
    },
    {
      "metadata": {
        "id": "EHX1INyQ1ELm",
        "colab_type": "code",
        "colab": {}
      },
      "cell_type": "code",
      "source": [
        "# train\n",
        "!tail -$(cat roa-cov | python -c 'import sys; print(round(len([line.strip() for line \\\n",
        "in sys.stdin]) * 0.8))') roa-cov > train4.txt\n",
        "!wc -l train4.txt\n",
        "# test\n",
        "!head -$(cat roa-cov | python -c 'import sys; print(round(len([line.strip() for line \\\n",
        "in sys.stdin]) * 0.2))') roa-cov > test4.txt\n",
        "!wc -l test4.txt\n",
        "# morfessor\n",
        "!morfessor -t train4.txt -T test4.txt >> srd_segmented.txt\n",
        "!wc -l srd_segmented.txt"
      ],
      "execution_count": 0,
      "outputs": []
    },
    {
      "metadata": {
        "id": "YBTT1n3Y1ELr",
        "colab_type": "text"
      },
      "cell_type": "markdown",
      "source": [
        "### fold 5\n",
        "#### train = tail 0.75n train4 + test4; test = head train4"
      ]
    },
    {
      "metadata": {
        "id": "PD-g--fg1ELt",
        "colab_type": "code",
        "colab": {}
      },
      "cell_type": "code",
      "source": [
        "# train\n",
        "!tail -$(cat train4.txt | python -c 'import sys; print(round(len([line.strip() for line \\\n",
        "in sys.stdin]) * 0.75))') train4.txt >> train5.txt && cat test4.txt >> train5.txt\n",
        "!wc -l train5.txt\n",
        "# test\n",
        "!head -$(cat train4.txt | python -c 'import sys; print(round(len([line.strip() for line \\\n",
        "in sys.stdin]) * 0.25))') train4.txt > test5.txt\n",
        "!wc -l test5.txt\n",
        "# morfessor\n",
        "!morfessor -t train5.txt -T test5.txt >> srd_segmented.txt"
      ],
      "execution_count": 0,
      "outputs": []
    },
    {
      "metadata": {
        "id": "Fe_3D1F-3qoc",
        "colab_type": "text"
      },
      "cell_type": "markdown",
      "source": [
        "### Download morfessor segmentation file if needed"
      ]
    },
    {
      "metadata": {
        "colab_type": "code",
        "id": "yHUP2mPcspEQ",
        "colab": {}
      },
      "cell_type": "code",
      "source": [
        "!wget https://www.dropbox.com/s/wu4ojsj18il5bcf/srd_segmented.txt"
      ],
      "execution_count": 0,
      "outputs": []
    },
    {
      "metadata": {
        "id": "KJ2i6P3W6D1S",
        "colab_type": "code",
        "outputId": "163e8598-09f5-4fdb-c69e-d641625f9022",
        "colab": {
          "base_uri": "https://localhost:8080/",
          "height": 56
        }
      },
      "cell_type": "code",
      "source": [
        "!wc -l srd_segmented.txt"
      ],
      "execution_count": 10,
      "outputs": [
        {
          "output_type": "stream",
          "text": [
            "9900 srd_segmented.txt\n"
          ],
          "name": "stdout"
        }
      ]
    },
    {
      "metadata": {
        "id": "VDIRrupM2BZc",
        "colab_type": "code",
        "outputId": "a59d1c6f-0017-402e-e448-419959784bad",
        "colab": {
          "base_uri": "https://localhost:8080/",
          "height": 207
        }
      },
      "cell_type": "code",
      "source": [
        "!head srd_segmented.txt"
      ],
      "execution_count": 11,
      "outputs": [
        {
          "output_type": "stream",
          "text": [
            "обур ланы\n",
            "област ына\n",
            "област ланы\n",
            "о аз и с ле\n",
            "нюзюр леринде\n",
            "нюзюр лери\n",
            "нохта гъа\n",
            "норма ланы\n",
            "норма гъа\n",
            "номер инден\n"
          ],
          "name": "stdout"
        }
      ]
    },
    {
      "metadata": {
        "id": "9amb2axo7QX7",
        "colab_type": "text"
      },
      "cell_type": "markdown",
      "source": [
        "# Tag projection"
      ]
    },
    {
      "metadata": {
        "id": "h9_3PxZT7dup",
        "colab_type": "text"
      },
      "cell_type": "markdown",
      "source": [
        "## roa and srd intersection"
      ]
    },
    {
      "metadata": {
        "id": "bb0-a8D97oT2",
        "colab_type": "text"
      },
      "cell_type": "markdown",
      "source": [
        "###  Creating roa dictionary; key:value  == wordform:[lemma, pos, analysis]"
      ]
    },
    {
      "metadata": {
        "colab_type": "code",
        "id": "a1CWRMMJl2aW",
        "colab": {
          "base_uri": "https://localhost:8080/",
          "height": 89
        },
        "outputId": "b4b38f73-0b69-4b7f-ed06-0abaef6a95ba"
      },
      "cell_type": "code",
      "source": [
        "from collections import defaultdict as dd\n",
        "\n",
        "\n",
        "roa_keys = [line.strip().split('\\t')[1] for line in open('roa-uncovered-transliterated', 'r', encoding='utf-8') if line]\n",
        "roa_values = [line.strip().split('\\t')[2:] for line in open('roa-uncovered-transliterated', 'r', encoding='utf-8') if line]\n",
        "roa = dict(zip(roa_keys, roa_values))\n",
        "\n",
        "roa_intersection = dd(set)\n",
        "\n",
        "for line in open('roa-uncovered-transliterated', 'r'):\n",
        "  iso, wf, lem, pos, analysis = line.rstrip().split('\\t')\n",
        "  roa_intersection[wf].add((lem, pos, analysis))\n",
        "\n",
        "print('roa:', list(roa.items())[:5])\n",
        "print('roa_intersection:', list(roa_intersection.items())[:5])"
      ],
      "execution_count": 12,
      "outputs": [
        {
          "output_type": "stream",
          "text": [
            "roa: [('казак', ['казак', 'NOUN', 'Case=Nom']), ('муамеле', ['муамеле', 'NOUN', 'Case=Nom']), ('заманы', ['заман', 'NOUN', 'Case=Nom|Number[psor]=Sing,Plur|Person[psor]=3']), ('конут', ['конут', 'NOUN', 'Case=Nom']), ('корумасы', ['корума', 'NOUN', 'Case=Nom|Number[psor]=Sing,Plur|Person[psor]=3'])]\n",
            "roa_intersection: [('казак', {('казак', 'ADJ', '_'), ('казак', 'NOUN', 'Case=Nom')}), ('муамеле', {('муамеле', 'NOUN', 'Case=Nom')}), ('заманы', {('заман', 'NOUN', 'Case=Acc'), ('заман', 'NOUN', 'Case=Nom|Number[psor]=Sing,Plur|Person[psor]=3')}), ('конут', {('конут', 'NOUN', 'Case=Nom')}), ('корумасы', {('корума', 'NOUN', 'Case=Nom|Number[psor]=Sing,Plur|Person[psor]=3'), ('кору', 'VERB', 'Case=Nom|Number[psor]=Sing,Plur|Person[psor]=3|Valency=2|VerbForm=Vnoun')})]\n"
          ],
          "name": "stdout"
        }
      ]
    },
    {
      "metadata": {
        "id": "ZcRbN_LC7UZM",
        "colab_type": "text"
      },
      "cell_type": "markdown",
      "source": [
        "### Creating srd dictionary; wf_roa[i] tags are projected on wf_srd[i] within the intersection"
      ]
    },
    {
      "metadata": {
        "colab_type": "code",
        "id": "QBn93CdkO1CH",
        "outputId": "bfdee128-e10f-4b8b-f15d-89d9af800d11",
        "colab": {
          "base_uri": "https://localhost:8080/",
          "height": 32
        }
      },
      "cell_type": "code",
      "source": [
        "srd_words = [line.strip().split('\\t')[1] for line in open('roa-covered-transliterated', 'r', encoding='utf-8')]\n",
        "srd = {wordform: roa_intersection[wordform] for wordform in srd_words if wordform in roa_intersection.keys()}\n",
        "len(srd.keys())"
      ],
      "execution_count": 137,
      "outputs": [
        {
          "output_type": "execute_result",
          "data": {
            "text/plain": [
              "1763"
            ]
          },
          "metadata": {
            "tags": []
          },
          "execution_count": 137
        }
      ]
    },
    {
      "metadata": {
        "id": "kl_VdnLmJmMN",
        "colab_type": "code",
        "outputId": "d9aa4759-1d65-4aa2-af06-c1ae6343eee8",
        "colab": {
          "base_uri": "https://localhost:8080/",
          "height": 148
        }
      },
      "cell_type": "code",
      "source": [
        "list(srd.items())[:5]"
      ],
      "execution_count": 14,
      "outputs": [
        {
          "output_type": "execute_result",
          "data": {
            "text/plain": [
              "[('крал', ['крал', 'NOUN', 'Case=Nom']),\n",
              " ('алай', ['алай', 'NOUN', 'Case=Nom']),\n",
              " ('баш', ['баш', 'NOUN', 'Case=Nom']),\n",
              " ('адам', ['адам', 'NOUN', 'Case=Nom']),\n",
              " ('барды',\n",
              "  ['бар',\n",
              "   'VERB',\n",
              "   'Aspect=Perf|Number=Sing|Person=3|Tense=Past|Valency=1|VerbForm=Fin'])]"
            ]
          },
          "metadata": {
            "tags": []
          },
          "execution_count": 14
        }
      ]
    },
    {
      "metadata": {
        "id": "8eIC5QQWK4Ac",
        "colab_type": "text"
      },
      "cell_type": "markdown",
      "source": [
        "Reading morfessor file as a list"
      ]
    },
    {
      "metadata": {
        "colab_type": "code",
        "id": "Y4SnOHmnsBFX",
        "colab": {}
      },
      "cell_type": "code",
      "source": [
        "morfessor = [line.strip().replace('гъ', 'г').replace('къ', 'к') for line in open('srd_segmented.txt', 'r', encoding='utf-8')]"
      ],
      "execution_count": 0,
      "outputs": []
    },
    {
      "metadata": {
        "id": "esXWvum6N0Pp",
        "colab_type": "code",
        "colab": {
          "base_uri": "https://localhost:8080/",
          "height": 32
        },
        "outputId": "00f89b81-f5a8-418c-a7ca-758661f688a2"
      },
      "cell_type": "code",
      "source": [
        "morfessor[:5]"
      ],
      "execution_count": 16,
      "outputs": [
        {
          "output_type": "execute_result",
          "data": {
            "text/plain": [
              "['обур ланы', 'област ына', 'област ланы', 'о аз и с ле', 'нюзюр леринде']"
            ]
          },
          "metadata": {
            "tags": []
          },
          "execution_count": 16
        }
      ]
    },
    {
      "metadata": {
        "id": "KBxNRqMFLP8t",
        "colab_type": "text"
      },
      "cell_type": "markdown",
      "source": [
        "We consider the substring of index 0 as a morfessor lemma, e.g. in музыка да the lem_morf is музыка"
      ]
    },
    {
      "metadata": {
        "id": "9302RIFmMMhq",
        "colab_type": "code",
        "colab": {}
      },
      "cell_type": "code",
      "source": [
        "morf_lemmas = [wordform.split()[0] for wordform in morfessor]"
      ],
      "execution_count": 0,
      "outputs": []
    },
    {
      "metadata": {
        "id": "D_CIl6-sJ0hB",
        "colab_type": "text"
      },
      "cell_type": "markdown",
      "source": [
        "## NOUN cluster\n",
        "\n",
        "We consider the srd wordforms to be in one noun cluster if wf_srd[i] == lem_roa[i] and w_roa[i] POS is NOUN "
      ]
    },
    {
      "metadata": {
        "colab_type": "code",
        "id": "pR7hmFr6nDZo",
        "outputId": "325b5028-8d0e-4212-c030-29f8dc3fe944",
        "colab": {
          "base_uri": "https://localhost:8080/",
          "height": 32
        }
      },
      "cell_type": "code",
      "source": [
        "srd_noun_lemmas = [wf for wf in srd.keys() if wf == roa[wf][0] and roa[wf][1] == 'NOUN']\n",
        "len(srd_noun_lemmas)"
      ],
      "execution_count": 18,
      "outputs": [
        {
          "output_type": "execute_result",
          "data": {
            "text/plain": [
              "912"
            ]
          },
          "metadata": {
            "tags": []
          },
          "execution_count": 18
        }
      ]
    },
    {
      "metadata": {
        "id": "Sk_1mHViOU4E",
        "colab_type": "text"
      },
      "cell_type": "markdown",
      "source": [
        "Finding intersection of lemmas_srd and lemmas_morf\n"
      ]
    },
    {
      "metadata": {
        "colab_type": "code",
        "id": "rFkPWE4-kT6Q",
        "outputId": "8327e940-1980-4227-9279-a160e35eeead",
        "colab": {
          "base_uri": "https://localhost:8080/",
          "height": 32
        }
      },
      "cell_type": "code",
      "source": [
        "lemma_noun_intersection = set(srd_noun_lemmas) & set(morf_lemmas)\n",
        "len(lemma_noun_intersection)"
      ],
      "execution_count": 19,
      "outputs": [
        {
          "output_type": "execute_result",
          "data": {
            "text/plain": [
              "477"
            ]
          },
          "metadata": {
            "tags": []
          },
          "execution_count": 19
        }
      ]
    },
    {
      "metadata": {
        "colab_type": "code",
        "id": "5Bm50a5omYL2",
        "outputId": "31f1d3f3-6e66-4ad4-dae4-f549bed81ca6",
        "colab": {
          "base_uri": "https://localhost:8080/",
          "height": 32
        }
      },
      "cell_type": "code",
      "source": [
        "'''если найденная морфессором лемма совпадает с леммой из intersection:\n",
        "– создаем новое подмножество inter_morf_seg, где хранятся сегментированные строки (e.g. музыка да)\n",
        "– создаем список неуникальных лемм таких, что лемма соответствует сегментированной строке из inter_morf_seg такой, что \n",
        "сегментированная строка:лемма (e.g. музыка да:музыка)'''\n",
        "\n",
        "noun_segment = [segmented for segmented in morfessor for lemma in lemma_noun_intersection \\\n",
        "                if lemma == segmented.split()[0]]\n",
        "noun_segment[:5]"
      ],
      "execution_count": 20,
      "outputs": [
        {
          "output_type": "execute_result",
          "data": {
            "text/plain": [
              "['норма ланы', 'норма га', 'низам лары', 'низам ланы', 'низам ла']"
            ]
          },
          "metadata": {
            "tags": []
          },
          "execution_count": 20
        }
      ]
    },
    {
      "metadata": {
        "colab_type": "code",
        "id": "zt_Ydvr9zb3s",
        "outputId": "85394b14-c3f4-40f4-c78e-36f80355f998",
        "colab": {
          "base_uri": "https://localhost:8080/",
          "height": 98
        }
      },
      "cell_type": "code",
      "source": [
        "'''если склеенная сегментированная строка[i] (=словоформа А) совпадает со словоформой В из множества\n",
        "roa-uncovered и если лемма[i] совпадает с леммой_[i] из roa-uncovered, мы проецируем теги\n",
        "словоформы В на словоформу А. создаем список кортежей таких, что:\n",
        "- projections[0] == словоформа А\n",
        "- projections[1] == лемма и проецируемые pos и analysis'''\n",
        "\n",
        "noun_projections = [(segmented, roa[wordform]) for segmented in noun_segment for wordform in \\\n",
        "              roa.keys() if ''.join(segmented.split()) == wordform and segmented.split()[0] \\\n",
        "              == roa[wordform][0] and roa[wordform][1] == 'NOUN']\n",
        "noun_projections[:5]"
      ],
      "execution_count": 141,
      "outputs": [
        {
          "output_type": "execute_result",
          "data": {
            "text/plain": [
              "[('ун', ['ун', 'NOUN', 'Case=Nom']),\n",
              " ('ине', ['ине', 'NOUN', 'Case=Nom']),\n",
              " ('га', ['га', 'NOUN', 'Case=Nom']),\n",
              " ('ден', ['ден', 'NOUN', 'Case=Nom']),\n",
              " ('дан', ['дан', 'NOUN', 'Case=Nom'])]"
            ]
          },
          "metadata": {
            "tags": []
          },
          "execution_count": 141
        }
      ]
    },
    {
      "metadata": {
        "colab_type": "code",
        "id": "6QEQ_EEJfoaW",
        "outputId": "6a7afe2c-289e-4922-f086-47807f69f7ab",
        "colab": {
          "base_uri": "https://localhost:8080/",
          "height": 32
        }
      },
      "cell_type": "code",
      "source": [
        "'''создаем карту тегов на материале существительных из 20% слов srd_words\n",
        "при условии, что analysis != Case=Nom и морфема встречается 2 и более раза. остальные\n",
        "либо спорные и нужно смотреть на следующих фолдах, либо склеенные, как сында'''\n",
        "\n",
        "noun_morphemes = [projection[0].split()[1] for projection in noun_projections if \\\n",
        "                  ''.join(projection[0].split()) != projection[1][0]]\n",
        "noun_m_freq = {morpheme: noun_morphemes.count(morpheme) for morpheme in noun_morphemes}\n",
        "list(noun_m_freq.items())[:5]"
      ],
      "execution_count": 22,
      "outputs": [
        {
          "output_type": "execute_result",
          "data": {
            "text/plain": [
              "[('да', 26), ('ы', 37), ('лары', 34), ('сы', 41), ('ун', 7)]"
            ]
          },
          "metadata": {
            "tags": []
          },
          "execution_count": 22
        }
      ]
    },
    {
      "metadata": {
        "id": "cyGJjyARd1K6",
        "colab_type": "code",
        "colab": {
          "base_uri": "https://localhost:8080/",
          "height": 115
        },
        "outputId": "0f7276c6-e6a2-4ded-8529-9e4b4c002b0b"
      },
      "cell_type": "code",
      "source": [
        "noun_morphs = {projection[0].split()[1]: projection[1][2] for projection in noun_projections if projection[1][1] \\\n",
        "         == 'NOUN' and ''.join(projection[0].split()) != projection[1][0]}\n",
        "\n",
        "morphemes_2_tagsets = {key: set(value.split('|')) for key, value in noun_morphs.items()}\n",
        "\n",
        "inflected_morphemes_2_possible_tagsets = {}\n",
        "\n",
        "for morpheme1 in morphemes_2_tagsets.keys():\n",
        "    for morpheme2 in morphemes_2_tagsets.keys():\n",
        "\n",
        "        if morpheme1 == morpheme2 or not morpheme2.endswith(morpheme1):\n",
        "            continue\n",
        "\n",
        "        morpheme1_in_morpheme2_idx = morpheme2.find(morpheme1)\n",
        "        new_morpheme = morpheme2[:morpheme1_in_morpheme2_idx]\n",
        "\n",
        "        if len(new_morpheme) > 1:\n",
        "            new_morpheme_tagset = morphemes_2_tagsets[morpheme2] - morphemes_2_tagsets[morpheme1]\n",
        "\n",
        "            if new_morpheme not in inflected_morphemes_2_possible_tagsets.keys():\n",
        "                inflected_morphemes_2_possible_tagsets[new_morpheme] = []\n",
        "            inflected_morphemes_2_possible_tagsets[new_morpheme].append(new_morpheme_tagset)\n",
        "\n",
        "\n",
        "result_morphemes_2_possible_tagsets = {key: [value] for key, value in morphemes_2_tagsets.items()}\n",
        "for morpheme, possible_tagsets in inflected_morphemes_2_possible_tagsets.items():\n",
        "    for possible_tagset in possible_tagsets:\n",
        "\n",
        "        if morpheme not in result_morphemes_2_possible_tagsets.keys():\n",
        "            result_morphemes_2_possible_tagsets[morpheme] = [possible_tagset]\n",
        "\n",
        "        known_tagsets_of_morpheme = result_morphemes_2_possible_tagsets[morpheme]\n",
        "\n",
        "        if not all(tag in known_tagset for tag in possible_tagset for known_tagset in known_tagsets_of_morpheme):\n",
        "            result_morphemes_2_possible_tagsets[morpheme].append(possible_tagset)\n",
        "\n",
        "for morpheme, tagsets in result_morphemes_2_possible_tagsets.items():\n",
        "    if len(tagsets) > 1:\n",
        "      if len(tagsets) > 1:\n",
        "        if morpheme == 'ын':\n",
        "          del tagsets[0] \n",
        "        else:\n",
        "          del tagsets[1]\n",
        "          \n",
        "noun_segment = {morpheme: known_tagsets[0]\n",
        "                              for morpheme, known_tagsets in result_morphemes_2_possible_tagsets.items()}\n",
        "list(noun_segment.items())[:5]"
      ],
      "execution_count": 23,
      "outputs": [
        {
          "output_type": "execute_result",
          "data": {
            "text/plain": [
              "[('да', {'Case=Loc'}),\n",
              " ('ы', {'Case=Nom', 'Number[psor]=Sing,Plur', 'Person[psor]=3'}),\n",
              " ('лары',\n",
              "  {'Case=Nom', 'Number=Plur', 'Number[psor]=Sing,Plur', 'Person[psor]=3'}),\n",
              " ('сы', {'Case=Nom', 'Number[psor]=Sing,Plur', 'Person[psor]=3'}),\n",
              " ('ун', {'Case=Acc', 'Number[psor]=Sing,Plur', 'Person[psor]=3'})]"
            ]
          },
          "metadata": {
            "tags": []
          },
          "execution_count": 23
        }
      ]
    },
    {
      "metadata": {
        "id": "sRK8Dje0M0WW",
        "colab_type": "text"
      },
      "cell_type": "markdown",
      "source": [
        "## VERB cluster\n",
        "\n",
        "We consider the srd wordforms to be in one noun cluster if wf_srd[i] == lem_roa[i] and w_roa[i] POS is VERB"
      ]
    },
    {
      "metadata": {
        "id": "0vpJKAagMzbm",
        "colab_type": "code",
        "colab": {
          "base_uri": "https://localhost:8080/",
          "height": 32
        },
        "outputId": "0056993b-6c95-4320-ccba-d9a71231c98f"
      },
      "cell_type": "code",
      "source": [
        "srd_verb_lemmas = [wf for wf in srd.keys() if wf == roa[wf][0] and roa[wf][1] == 'VERB']\n",
        "len(srd_verb_lemmas)"
      ],
      "execution_count": 24,
      "outputs": [
        {
          "output_type": "execute_result",
          "data": {
            "text/plain": [
              "39"
            ]
          },
          "metadata": {
            "tags": []
          },
          "execution_count": 24
        }
      ]
    },
    {
      "metadata": {
        "id": "qdrA2S5gS50e",
        "colab_type": "code",
        "colab": {
          "base_uri": "https://localhost:8080/",
          "height": 32
        },
        "outputId": "9f41bf34-5d92-4b43-fd27-e58ad8435bef"
      },
      "cell_type": "code",
      "source": [
        "lemma_verb_intersection = set(srd_verb_lemmas) & set(morf_lemmas)\n",
        "len(lemma_verb_intersection)"
      ],
      "execution_count": 25,
      "outputs": [
        {
          "output_type": "execute_result",
          "data": {
            "text/plain": [
              "32"
            ]
          },
          "metadata": {
            "tags": []
          },
          "execution_count": 25
        }
      ]
    },
    {
      "metadata": {
        "id": "Xc2wPKMEUKIB",
        "colab_type": "code",
        "colab": {
          "base_uri": "https://localhost:8080/",
          "height": 32
        },
        "outputId": "97de8dfa-3dc4-4773-eeed-285469d51152"
      },
      "cell_type": "code",
      "source": [
        "verb_segment = [segmented for segmented in morfessor for lemma in lemma_verb_intersection \\\n",
        "                if lemma == segmented.split()[0]]\n",
        "verb_segment[:5]"
      ],
      "execution_count": 26,
      "outputs": [
        {
          "output_type": "execute_result",
          "data": {
            "text/plain": [
              "['кыз лары', 'кыз га', 'кул лугу ндан', 'кул лугу н', 'кул ак лары']"
            ]
          },
          "metadata": {
            "tags": []
          },
          "execution_count": 26
        }
      ]
    },
    {
      "metadata": {
        "id": "yU6WS2mBVopw",
        "colab_type": "code",
        "colab": {
          "base_uri": "https://localhost:8080/",
          "height": 197
        },
        "outputId": "75c0b228-adb3-48ad-dd89-1fe70f844680"
      },
      "cell_type": "code",
      "source": [
        "verb_projections = [(segmented, roa[wordform]) for segmented in verb_segment for wordform in \\\n",
        "              roa.keys() if ''.join(segmented.split()) == wordform and segmented.split()[0] \\\n",
        "              == roa[wordform][0] and roa[wordform][1] == 'VERB']\n",
        "verb_projections[:5]"
      ],
      "execution_count": 27,
      "outputs": [
        {
          "output_type": "execute_result",
          "data": {
            "text/plain": [
              "[('кара р',\n",
              "  ['кара', 'VERB', 'Number=Sing|Person=3|Tense=Aor|Valency=1|VerbForm=Fin']),\n",
              " ('кара п', ['кара', 'VERB', 'Aspect=Perf|Valency=1|VerbForm=Conv']),\n",
              " ('кир',\n",
              "  ['кир', 'VERB', 'Mood=Imp|Number=Sing|Person=2|Valency=1|VerbForm=Fin']),\n",
              " ('де с ек',\n",
              "  ['де', 'VERB', 'Mood=Cond|Number=Plur|Person=1|Valency=2|VerbForm=Conv']),\n",
              " ('ат ылган',\n",
              "  ['ат',\n",
              "   'VERB',\n",
              "   'Number=Sing|Person=3|Tense=Past|Valency=2|VerbForm=Fin|Voice=Pass'])]"
            ]
          },
          "metadata": {
            "tags": []
          },
          "execution_count": 27
        }
      ]
    },
    {
      "metadata": {
        "id": "I9Bbu4hXebJY",
        "colab_type": "code",
        "colab": {
          "base_uri": "https://localhost:8080/",
          "height": 32
        },
        "outputId": "223b4635-bb6c-4dda-d810-6990eb9ab04e"
      },
      "cell_type": "code",
      "source": [
        "verb_morphemes = [''.join(projection[0].split()[1:]) for projection in verb_projections if ''.join(projection[0].split()) != projection[1][0]]\n",
        "verb_m_freq = {morpheme: verb_morphemes.count(morpheme) for morpheme in verb_morphemes}\n",
        "list(verb_m_freq.items())[:5]"
      ],
      "execution_count": 28,
      "outputs": [
        {
          "output_type": "execute_result",
          "data": {
            "text/plain": [
              "[('р', 2), ('п', 3), ('сек', 2), ('ылган', 2), ('ип', 1)]"
            ]
          },
          "metadata": {
            "tags": []
          },
          "execution_count": 28
        }
      ]
    },
    {
      "metadata": {
        "id": "4DN-qm1d-ub6",
        "colab_type": "code",
        "colab": {
          "base_uri": "https://localhost:8080/",
          "height": 214
        },
        "outputId": "fcda4977-23a9-4b9f-ce73-9d3e6d690817"
      },
      "cell_type": "code",
      "source": [
        "verb_morphs = {projection[0].split()[1]: projection[1][2] for projection in verb_projections if projection[1][1] \\\n",
        "         == 'VERB' and ''.join(projection[0].split()) != projection[1][0]}\n",
        "\n",
        "morphemes_2_tagsets = {key: set(value.split('|')) for key, value in verb_morphs.items()}\n",
        "\n",
        "inflected_morphemes_2_possible_tagsets = {}\n",
        "\n",
        "for morpheme1 in morphemes_2_tagsets.keys():\n",
        "    for morpheme2 in morphemes_2_tagsets.keys():\n",
        "\n",
        "        if morpheme1 == morpheme2 or not morpheme2.endswith(morpheme1):\n",
        "            continue\n",
        "\n",
        "        morpheme1_in_morpheme2_idx = morpheme2.find(morpheme1)\n",
        "        new_morpheme = morpheme2[:morpheme1_in_morpheme2_idx]\n",
        "\n",
        "        if len(new_morpheme) > 1:\n",
        "            new_morpheme_tagset = morphemes_2_tagsets[morpheme2] - morphemes_2_tagsets[morpheme1]\n",
        "\n",
        "            if new_morpheme not in inflected_morphemes_2_possible_tagsets.keys():\n",
        "                inflected_morphemes_2_possible_tagsets[new_morpheme] = []\n",
        "            inflected_morphemes_2_possible_tagsets[new_morpheme].append(new_morpheme_tagset)\n",
        "\n",
        "\n",
        "result_morphemes_2_possible_tagsets = {key: [value] for key, value in morphemes_2_tagsets.items()}\n",
        "for morpheme, possible_tagsets in inflected_morphemes_2_possible_tagsets.items():\n",
        "    for possible_tagset in possible_tagsets:\n",
        "\n",
        "        if morpheme not in result_morphemes_2_possible_tagsets.keys():\n",
        "            result_morphemes_2_possible_tagsets[morpheme] = [possible_tagset]\n",
        "\n",
        "        known_tagsets_of_morpheme = result_morphemes_2_possible_tagsets[morpheme]\n",
        "\n",
        "        if not all(tag in known_tagset for tag in possible_tagset for known_tagset in known_tagsets_of_morpheme):\n",
        "            result_morphemes_2_possible_tagsets[morpheme].append(possible_tagset)\n",
        "\n",
        "for morpheme, tagsets in result_morphemes_2_possible_tagsets.items():\n",
        "    if len(tagsets) > 1:\n",
        "        print(f\"error! morpheme {morpheme} relates to more than one possible tags string\")\n",
        "\n",
        "verb_segment = {morpheme: known_tagsets[0]\n",
        "                              for morpheme, known_tagsets in result_morphemes_2_possible_tagsets.items()}\n",
        "\n",
        "list(verb_segment.items())[:5]"
      ],
      "execution_count": 29,
      "outputs": [
        {
          "output_type": "execute_result",
          "data": {
            "text/plain": [
              "[('р', {'Number=Sing', 'Person=3', 'Tense=Aor', 'Valency=1', 'VerbForm=Fin'}),\n",
              " ('п', {'Aspect=Perf', 'Valency=2', 'VerbForm=Conv'}),\n",
              " ('с', {'Mood=Cond', 'Number=Plur', 'Person=1', 'Valency=2', 'VerbForm=Conv'}),\n",
              " ('ылган',\n",
              "  {'Number=Sing',\n",
              "   'Person=3',\n",
              "   'Tense=Past',\n",
              "   'Valency=2',\n",
              "   'VerbForm=Fin',\n",
              "   'Voice=Pass'}),\n",
              " ('се',\n",
              "  {'Mood=Cond', 'Number=Plur', 'Person=3', 'Valency=1', 'VerbForm=Conv'})]"
            ]
          },
          "metadata": {
            "tags": []
          },
          "execution_count": 29
        }
      ]
    },
    {
      "metadata": {
        "id": "bi-mHufC8Gio",
        "colab_type": "text"
      },
      "cell_type": "markdown",
      "source": [
        "# Calma POS and my greedy segmentation"
      ]
    },
    {
      "metadata": {
        "id": "VcL8x65A65XG",
        "colab_type": "code",
        "colab": {}
      },
      "cell_type": "code",
      "source": [
        "!wget https://www.dropbox.com/s/2rkq5cw0vnq52a9/calma_pos.nosys"
      ],
      "execution_count": 0,
      "outputs": []
    },
    {
      "metadata": {
        "id": "FZExKtIy8LtI",
        "colab_type": "code",
        "colab": {
          "base_uri": "https://localhost:8080/",
          "height": 207
        },
        "outputId": "d26cab1f-c8ae-492d-8f05-dfa8a825627c"
      },
      "cell_type": "code",
      "source": [
        "!head calma_pos.nosys"
      ],
      "execution_count": 31,
      "outputs": [
        {
          "output_type": "stream",
          "text": [
            "srd\tджыл\tcc\tNOUN\tTag1=Value1|Tag2=Value2\n",
            "srd\tджыл\tcc\tADJ\tTag1=Value1|Tag2=Value2\n",
            "srd\tэм\tcc\tNOUN\tTag1=Value1|Tag2=Value2\n",
            "srd\tэм\tcc\tVERB\tTag1=Value1|Tag2=Value2\n",
            "srd\tджылны\tcc\tNOUN\tTag1=Value1|Tag2=Value2\n",
            "srd\tболганды\tcc\tVERB\tTag1=Value1|Tag2=Value2\n",
            "srd\tдери\tcc\tNOUN\tTag1=Value1|Tag2=Value2\n",
            "srd\tкёре\tcc\tNOUN\tTag1=Value1|Tag2=Value2\n",
            "srd\tкёре\tcc\tVERB\tTag1=Value1|Tag2=Value2\n",
            "srd\tсора\tcc\tNOUN\tTag1=Value1|Tag2=Value2\n"
          ],
          "name": "stdout"
        }
      ]
    },
    {
      "metadata": {
        "id": "K81Adv_j8bw7",
        "colab_type": "code",
        "colab": {
          "base_uri": "https://localhost:8080/",
          "height": 201
        },
        "outputId": "53ffb5d7-234d-4c17-9f55-0c745299fab7"
      },
      "cell_type": "code",
      "source": [
        "import pandas as pd\n",
        "\n",
        "\n",
        "calma = pd.read_csv('calma_pos.nosys', sep='\\t', names=['iso', 'transliterated', 'lemma', 'POS', 'analysis'], index_col=False)\n",
        "calma.insert(1, 'wordform', calma['transliterated'])\n",
        "\n",
        "calma.head()"
      ],
      "execution_count": 32,
      "outputs": [
        {
          "output_type": "execute_result",
          "data": {
            "text/html": [
              "<div>\n",
              "<style scoped>\n",
              "    .dataframe tbody tr th:only-of-type {\n",
              "        vertical-align: middle;\n",
              "    }\n",
              "\n",
              "    .dataframe tbody tr th {\n",
              "        vertical-align: top;\n",
              "    }\n",
              "\n",
              "    .dataframe thead th {\n",
              "        text-align: right;\n",
              "    }\n",
              "</style>\n",
              "<table border=\"1\" class=\"dataframe\">\n",
              "  <thead>\n",
              "    <tr style=\"text-align: right;\">\n",
              "      <th></th>\n",
              "      <th>iso</th>\n",
              "      <th>wordform</th>\n",
              "      <th>transliterated</th>\n",
              "      <th>lemma</th>\n",
              "      <th>POS</th>\n",
              "      <th>analysis</th>\n",
              "    </tr>\n",
              "  </thead>\n",
              "  <tbody>\n",
              "    <tr>\n",
              "      <th>0</th>\n",
              "      <td>srd</td>\n",
              "      <td>джыл</td>\n",
              "      <td>джыл</td>\n",
              "      <td>cc</td>\n",
              "      <td>NOUN</td>\n",
              "      <td>Tag1=Value1|Tag2=Value2</td>\n",
              "    </tr>\n",
              "    <tr>\n",
              "      <th>1</th>\n",
              "      <td>srd</td>\n",
              "      <td>джыл</td>\n",
              "      <td>джыл</td>\n",
              "      <td>cc</td>\n",
              "      <td>ADJ</td>\n",
              "      <td>Tag1=Value1|Tag2=Value2</td>\n",
              "    </tr>\n",
              "    <tr>\n",
              "      <th>2</th>\n",
              "      <td>srd</td>\n",
              "      <td>эм</td>\n",
              "      <td>эм</td>\n",
              "      <td>cc</td>\n",
              "      <td>NOUN</td>\n",
              "      <td>Tag1=Value1|Tag2=Value2</td>\n",
              "    </tr>\n",
              "    <tr>\n",
              "      <th>3</th>\n",
              "      <td>srd</td>\n",
              "      <td>эм</td>\n",
              "      <td>эм</td>\n",
              "      <td>cc</td>\n",
              "      <td>VERB</td>\n",
              "      <td>Tag1=Value1|Tag2=Value2</td>\n",
              "    </tr>\n",
              "    <tr>\n",
              "      <th>4</th>\n",
              "      <td>srd</td>\n",
              "      <td>джылны</td>\n",
              "      <td>джылны</td>\n",
              "      <td>cc</td>\n",
              "      <td>NOUN</td>\n",
              "      <td>Tag1=Value1|Tag2=Value2</td>\n",
              "    </tr>\n",
              "  </tbody>\n",
              "</table>\n",
              "</div>"
            ],
            "text/plain": [
              "   iso wordform transliterated lemma   POS                 analysis\n",
              "0  srd     джыл           джыл    cc  NOUN  Tag1=Value1|Tag2=Value2\n",
              "1  srd     джыл           джыл    cc   ADJ  Tag1=Value1|Tag2=Value2\n",
              "2  srd       эм             эм    cc  NOUN  Tag1=Value1|Tag2=Value2\n",
              "3  srd       эм             эм    cc  VERB  Tag1=Value1|Tag2=Value2\n",
              "4  srd   джылны         джылны    cc  NOUN  Tag1=Value1|Tag2=Value2"
            ]
          },
          "metadata": {
            "tags": []
          },
          "execution_count": 32
        }
      ]
    },
    {
      "metadata": {
        "id": "_PG_5cR0-mj6",
        "colab_type": "code",
        "colab": {
          "base_uri": "https://localhost:8080/",
          "height": 82
        },
        "outputId": "e3e1bd18-264f-4479-a5e8-10cd484bae79"
      },
      "cell_type": "code",
      "source": [
        "# creating three calma pos clusters\n",
        "\n",
        "clusters, wordforms = list(calma.groupby(['POS']).groups.keys()), []\n",
        "\n",
        "for cluster in clusters:\n",
        "  wordforms.append(calma.loc[calma.groupby(['POS']).groups[cluster],\n",
        "                            'transliterated'].tolist())\n",
        "  \n",
        "calma_pos = dict(zip(clusters, wordforms))\n",
        "\n",
        "for cluster in calma_pos.keys():\n",
        "  print((cluster, len(calma_pos[cluster])))"
      ],
      "execution_count": 33,
      "outputs": [
        {
          "output_type": "stream",
          "text": [
            "('ADJ', 1042)\n",
            "('ADV', 105)\n",
            "('NOUN', 8818)\n",
            "('VERB', 2963)\n"
          ],
          "name": "stdout"
        }
      ]
    },
    {
      "metadata": {
        "id": "va9W1TUBAa50",
        "colab_type": "code",
        "colab": {
          "base_uri": "https://localhost:8080/",
          "height": 32
        },
        "outputId": "9c252cb9-f0a4-4c04-c162-ae071b4f1ac4"
      },
      "cell_type": "code",
      "source": [
        "# NOUN\n",
        "\n",
        "input_wfs_set = set()\n",
        "greed_nouns = {}\n",
        "\n",
        "for noun in calma_pos['NOUN']:\n",
        "  input_wfs_set.add(noun)\n",
        "  \n",
        "processed_wfs_set = set()\n",
        "result_n_data = {}\n",
        "for morpheme in sorted(noun_segment.keys(), key=lambda word: len(word), reverse=True):\n",
        "    processed_wfs_set = set()\n",
        "    for wf in input_wfs_set:\n",
        "        if wf.endswith(morpheme):\n",
        "\n",
        "            if wf != morpheme:\n",
        "                lemma = wf[:wf.rfind(morpheme)]\n",
        "            else:\n",
        "                lemma = \"NONE\"\n",
        "\n",
        "            result_n_data[wf] = [lemma] + ['NOUN'] + list(noun_segment[morpheme])\n",
        "            processed_wfs_set.add(wf)\n",
        "    input_wfs_set -= processed_wfs_set\n",
        "\n",
        "    \n",
        "for morpheme, inflected_data in result_n_data.items():\n",
        "    lemma = inflected_data[0]\n",
        "    pos = inflected_data[1]\n",
        "    analysis = sorted(inflected_data[2:])\n",
        "    greed_nouns[morpheme] = [lemma, pos, '|'.join(analysis)]\n",
        "    \n",
        "for wf in input_wfs_set:\n",
        "    greed_nouns[wf] = [wf, 'NOUN', \"Case=Nom\"]\n",
        "                           \n",
        "len(list(greed_nouns.keys()))"
      ],
      "execution_count": 58,
      "outputs": [
        {
          "output_type": "execute_result",
          "data": {
            "text/plain": [
              "7732"
            ]
          },
          "metadata": {
            "tags": []
          },
          "execution_count": 58
        }
      ]
    },
    {
      "metadata": {
        "id": "Y_TEiPzVsxru",
        "colab_type": "code",
        "colab": {
          "base_uri": "https://localhost:8080/",
          "height": 148
        },
        "outputId": "08440303-58ae-4bcf-a7fd-eaffcd9abac3"
      },
      "cell_type": "code",
      "source": [
        "list(greed_nouns.items())[:2]"
      ],
      "execution_count": 59,
      "outputs": [
        {
          "output_type": "execute_result",
          "data": {
            "text/plain": [
              "[('орунларындан',\n",
              "  ['орун',\n",
              "   'NOUN',\n",
              "   'Case=Abl|Number=Plur|Number[psor]=Sing,Plur|Person[psor]=3']),\n",
              " ('чурумларындан',\n",
              "  ['чурум',\n",
              "   'NOUN',\n",
              "   'Case=Abl|Number=Plur|Number[psor]=Sing,Plur|Person[psor]=3'])]"
            ]
          },
          "metadata": {
            "tags": []
          },
          "execution_count": 59
        }
      ]
    },
    {
      "metadata": {
        "id": "e9U1AO67USgg",
        "colab_type": "code",
        "colab": {
          "base_uri": "https://localhost:8080/",
          "height": 32
        },
        "outputId": "7b20ae72-a7d9-4aa7-b402-1b50aa398234"
      },
      "cell_type": "code",
      "source": [
        "# VERB\n",
        "\n",
        "input_wfs_set = set()\n",
        "greed_verbs = {}\n",
        "\n",
        "for verb in calma_pos['VERB']:\n",
        "  input_wfs_set.add(verb)\n",
        "\n",
        "processed_wfs_set = set()\n",
        "result_v_data = {}\n",
        "for morpheme in sorted(verb_segment.keys(), key=lambda word: len(word), reverse=True):\n",
        "    processed_wfs_set = set()\n",
        "    for wf in input_wfs_set:\n",
        "        if wf.endswith(morpheme):\n",
        "\n",
        "            if wf != morpheme:\n",
        "                lemma = wf[:wf.rfind(morpheme)]\n",
        "            else:\n",
        "                lemma = \"NONE\"\n",
        "\n",
        "            result_v_data[wf] = [lemma] + ['VERB'] + list(verb_segment[morpheme])\n",
        "            processed_wfs_set.add(wf)\n",
        "    input_wfs_set -= processed_wfs_set\n",
        "\n",
        "    \n",
        "for morpheme, inflected_data in result_v_data.items():\n",
        "    lemma = inflected_data[0]\n",
        "    pos = inflected_data[1]\n",
        "    analysis = sorted(inflected_data[2:])\n",
        "    greed_verbs[morpheme] = [lemma, pos, '|'.join(analysis)]\n",
        "    \n",
        "for wf in input_wfs_set:\n",
        "    greed_verbs[wf] = ['bad_verb', 'bad_verb', 'bad_verb']\n",
        "                           \n",
        "len(list(greed_verbs.keys()))"
      ],
      "execution_count": 73,
      "outputs": [
        {
          "output_type": "execute_result",
          "data": {
            "text/plain": [
              "2709"
            ]
          },
          "metadata": {
            "tags": []
          },
          "execution_count": 73
        }
      ]
    },
    {
      "metadata": {
        "id": "uoLYdNz7W7Sa",
        "colab_type": "code",
        "colab": {
          "base_uri": "https://localhost:8080/",
          "height": 148
        },
        "outputId": "728b3699-8ca6-49f6-df1f-01899562d31b"
      },
      "cell_type": "code",
      "source": [
        "list(greed_verbs.items())[:2]"
      ],
      "execution_count": 74,
      "outputs": [
        {
          "output_type": "execute_result",
          "data": {
            "text/plain": [
              "[('сыйырылган',\n",
              "  ['сыйыр',\n",
              "   'VERB',\n",
              "   'Number=Sing|Person=3|Tense=Past|Valency=2|VerbForm=Fin|Voice=Pass']),\n",
              " ('чыгарылган',\n",
              "  ['чыгар',\n",
              "   'VERB',\n",
              "   'Number=Sing|Person=3|Tense=Past|Valency=2|VerbForm=Fin|Voice=Pass'])]"
            ]
          },
          "metadata": {
            "tags": []
          },
          "execution_count": 74
        }
      ]
    },
    {
      "metadata": {
        "id": "yD4mMejwrkb0",
        "colab_type": "code",
        "colab": {}
      },
      "cell_type": "code",
      "source": [
        "!wget https://www.dropbox.com/s/roqm9n2ow9lfzh6/tmp.txt"
      ],
      "execution_count": 0,
      "outputs": []
    },
    {
      "metadata": {
        "id": "A_jfiVVLwzTr",
        "colab_type": "code",
        "colab": {
          "base_uri": "https://localhost:8080/",
          "height": 267
        },
        "outputId": "5ed03050-313e-4068-bc0b-746b2408412d"
      },
      "cell_type": "code",
      "source": [
        "!head tmp.txt"
      ],
      "execution_count": 129,
      "outputs": [
        {
          "output_type": "stream",
          "text": [
            "srd\tэм\tэм\tNOUN\tCase=Nom\n",
            "srd\tболганды\tбол\tVERB\tAspect=Perf|Number=Sing|Person=3|Tense=Past|Valency=1|VerbForm=Fin\n",
            "srd\tболганды\tболган\tNOUN\tCase=Acc\n",
            "srd\tболганды\tболганды\tADJ\t_\n",
            "srd\tкёре\tкёр\tVERB\tAspect=Imp|Valency=2|VerbForm=Conv\n",
            "srd\tкёре\tкёре\tADJ\t_\n",
            "srd\tкёре\tкёре\tNOUN\tCase=Nom\n",
            "srd\tболады\tбол\tVERB\tNumber=Plur|Person=3|Tense=Aor|Valency=1|VerbForm=Fin\n",
            "srd\tболады\tбол\tVERB\tNumber=Sing|Person=3|Tense=Aor|Valency=1|VerbForm=Fin\n",
            "srd\tболады\tбол\tVERB\tNumber=Sing|Person=3|Tense=Aor|Valency=2|VerbForm=Fin\n"
          ],
          "name": "stdout"
        }
      ]
    },
    {
      "metadata": {
        "id": "XniyMbDRmv5F",
        "colab_type": "code",
        "colab": {}
      },
      "cell_type": "code",
      "source": [
        "my_calma = []\n",
        "\n",
        "unique_nouns, unique_verbs  = set(greed_nouns.keys()), set(greed_verbs.keys())\n",
        "unique_advs, unique_adjs = set(calma_pos['ADV']), set(calma_pos['ADJ'])\n",
        "\n",
        "    \n",
        "with open('calma_pos.nosys', 'r') as f:\n",
        "  for line in f:\n",
        "    iso, wf, lemma, pos, analysis = line.strip().split('\\t')\n",
        "    if wf in unique_nouns and pos == greed_nouns[wf][1]:\n",
        "      lemma = greed_nouns[wf][0]\n",
        "      analysis = greed_nouns[wf][2]\n",
        "    else:\n",
        "      lemma = 'bad_noun'\n",
        "      analysis = 'bad_noun'\n",
        "      if wf in unique_verbs and pos == greed_verbs[wf][1]:\n",
        "        lemma = greed_verbs[wf][0]\n",
        "        analysis = greed_verbs[wf][2]\n",
        "      else:\n",
        "        lemma = 'bad_verb'\n",
        "        analysis = 'bad_verb'\n",
        "        if wf in unique_advs and pos == 'ADV':\n",
        "          lemma = wf\n",
        "          analysis = '_'\n",
        "        elif wf in unique_adjs and pos == 'ADJ':\n",
        "          lemma = wf\n",
        "          analysis = '_'\n",
        "    my_calma.append((iso, wf, lemma, pos, analysis))"
      ],
      "execution_count": 0,
      "outputs": []
    },
    {
      "metadata": {
        "id": "BbD7VA4W3JcU",
        "colab_type": "code",
        "colab": {}
      },
      "cell_type": "code",
      "source": [
        "calma_list = []\n",
        "\n",
        "unique_nouns, unique_verbs  = set(greed_nouns.keys()), set(greed_verbs.keys())\n",
        "unique_advs, unique_adjs = set(calma_pos['ADV']), set(calma_pos['ADJ'])\n",
        "\n",
        "\n",
        "with open('calma_pos.nosys', 'r') as f:\n",
        "  for line in f:\n",
        "    iso, wf, lemma, pos, analysis = line.strip().split('\\t')\n",
        "    if wf == 'ырдайт':\n",
        "      print(wf)\n",
        "    if wf in unique_nouns and pos == greed_nouns[wf][1]:\n",
        "      lemma = greed_nouns[wf][0]\n",
        "      analysis = greed_nouns[wf][2]\n",
        "    else:\n",
        "      lemma = 'bad_noun'\n",
        "      analysis = 'bad_noun'\n",
        "      if wf in unique_verbs and pos == greed_verbs[wf][1]:\n",
        "        lemma = greed_verbs[wf][0]\n",
        "        analysis = greed_verbs[wf][2]\n",
        "      else:\n",
        "        lemma = 'bad_verb'\n",
        "        analysis = 'bad_verb'\n",
        "        if wf in unique_advs and pos == 'ADV':\n",
        "          lemma = wf\n",
        "          analysis = '_'\n",
        "        elif wf in unique_adjs and pos == 'ADJ':\n",
        "          lemma = wf\n",
        "          analysis = '_'\n",
        "    results=[]\n",
        "    \n",
        "    if wf in roa_intersection.keys() and wf in srd_words:\n",
        "      for roa_value in roa_intersection[wf]:\n",
        "        if pos == roa_value[1]:\n",
        "          results.append((roa_value[0], roa_value[2]))\n",
        "    if len(results) == 0:\n",
        "      results.append((lemma, analysis))\n",
        "    for result in results:\n",
        "      calma_list.append((iso, wf, result[0], pos, result[1]))"
      ],
      "execution_count": 0,
      "outputs": []
    },
    {
      "metadata": {
        "id": "n3y-Fzk-4kYA",
        "colab_type": "code",
        "colab": {
          "base_uri": "https://localhost:8080/",
          "height": 32
        },
        "outputId": "bd4f0e6b-497d-467b-bb04-08616ad33876"
      },
      "cell_type": "code",
      "source": [
        "len(calma_list)"
      ],
      "execution_count": 155,
      "outputs": [
        {
          "output_type": "execute_result",
          "data": {
            "text/plain": [
              "13642"
            ]
          },
          "metadata": {
            "tags": []
          },
          "execution_count": 155
        }
      ]
    },
    {
      "metadata": {
        "id": "4GnJoq8Qxx9j",
        "colab_type": "code",
        "colab": {}
      },
      "cell_type": "code",
      "source": [
        "calm = pd.DataFrame(calma_list, columns=['iso', 'wf', 'lemma', 'pos', 'tags'])"
      ],
      "execution_count": 0,
      "outputs": []
    },
    {
      "metadata": {
        "id": "VPEoQyOoOtrU",
        "colab_type": "code",
        "colab": {
          "base_uri": "https://localhost:8080/",
          "height": 201
        },
        "outputId": "5ac19652-084e-431f-eb1c-70d36d72c8d9"
      },
      "cell_type": "code",
      "source": [
        "calm.head()"
      ],
      "execution_count": 157,
      "outputs": [
        {
          "output_type": "execute_result",
          "data": {
            "text/html": [
              "<div>\n",
              "<style scoped>\n",
              "    .dataframe tbody tr th:only-of-type {\n",
              "        vertical-align: middle;\n",
              "    }\n",
              "\n",
              "    .dataframe tbody tr th {\n",
              "        vertical-align: top;\n",
              "    }\n",
              "\n",
              "    .dataframe thead th {\n",
              "        text-align: right;\n",
              "    }\n",
              "</style>\n",
              "<table border=\"1\" class=\"dataframe\">\n",
              "  <thead>\n",
              "    <tr style=\"text-align: right;\">\n",
              "      <th></th>\n",
              "      <th>iso</th>\n",
              "      <th>wf</th>\n",
              "      <th>lemma</th>\n",
              "      <th>pos</th>\n",
              "      <th>tags</th>\n",
              "    </tr>\n",
              "  </thead>\n",
              "  <tbody>\n",
              "    <tr>\n",
              "      <th>0</th>\n",
              "      <td>srd</td>\n",
              "      <td>джыл</td>\n",
              "      <td>джыл</td>\n",
              "      <td>NOUN</td>\n",
              "      <td>Case=Nom</td>\n",
              "    </tr>\n",
              "    <tr>\n",
              "      <th>1</th>\n",
              "      <td>srd</td>\n",
              "      <td>джыл</td>\n",
              "      <td>джыл</td>\n",
              "      <td>ADJ</td>\n",
              "      <td>_</td>\n",
              "    </tr>\n",
              "    <tr>\n",
              "      <th>2</th>\n",
              "      <td>srd</td>\n",
              "      <td>эм</td>\n",
              "      <td>эм</td>\n",
              "      <td>NOUN</td>\n",
              "      <td>Case=Nom</td>\n",
              "    </tr>\n",
              "    <tr>\n",
              "      <th>3</th>\n",
              "      <td>srd</td>\n",
              "      <td>эм</td>\n",
              "      <td>bad_verb</td>\n",
              "      <td>VERB</td>\n",
              "      <td>bad_verb</td>\n",
              "    </tr>\n",
              "    <tr>\n",
              "      <th>4</th>\n",
              "      <td>srd</td>\n",
              "      <td>джылны</td>\n",
              "      <td>джыл</td>\n",
              "      <td>NOUN</td>\n",
              "      <td>Case=Acc</td>\n",
              "    </tr>\n",
              "  </tbody>\n",
              "</table>\n",
              "</div>"
            ],
            "text/plain": [
              "   iso      wf     lemma   pos      tags\n",
              "0  srd    джыл      джыл  NOUN  Case=Nom\n",
              "1  srd    джыл      джыл   ADJ         _\n",
              "2  srd      эм        эм  NOUN  Case=Nom\n",
              "3  srd      эм  bad_verb  VERB  bad_verb\n",
              "4  srd  джылны      джыл  NOUN  Case=Acc"
            ]
          },
          "metadata": {
            "tags": []
          },
          "execution_count": 157
        }
      ]
    },
    {
      "metadata": {
        "id": "ednjYlU0iXpw",
        "colab_type": "code",
        "colab": {
          "base_uri": "https://localhost:8080/",
          "height": 115
        },
        "outputId": "2d967d11-aad3-48f8-b38c-b0d7284dff03"
      },
      "cell_type": "code",
      "source": [
        "calm.tags.value_counts()[:5]"
      ],
      "execution_count": 158,
      "outputs": [
        {
          "output_type": "execute_result",
          "data": {
            "text/plain": [
              "Case=Nom                                          3014\n",
              "bad_verb                                          1718\n",
              "Case=Acc                                          1554\n",
              "Case=Nom|Number[psor]=Sing,Plur|Person[psor]=3    1146\n",
              "_                                                 1145\n",
              "Name: tags, dtype: int64"
            ]
          },
          "metadata": {
            "tags": []
          },
          "execution_count": 158
        }
      ]
    },
    {
      "metadata": {
        "id": "gCLuVn1Yysdq",
        "colab_type": "code",
        "colab": {
          "base_uri": "https://localhost:8080/",
          "height": 201
        },
        "outputId": "b638c509-a8b4-493f-d136-beb673395a9e"
      },
      "cell_type": "code",
      "source": [
        "tmp = pd.read_csv('tmp.txt', sep='\\t', names=['iso', 'wf', 'lemma', 'pos', 'tags'])\n",
        "tmp.head()"
      ],
      "execution_count": 159,
      "outputs": [
        {
          "output_type": "execute_result",
          "data": {
            "text/html": [
              "<div>\n",
              "<style scoped>\n",
              "    .dataframe tbody tr th:only-of-type {\n",
              "        vertical-align: middle;\n",
              "    }\n",
              "\n",
              "    .dataframe tbody tr th {\n",
              "        vertical-align: top;\n",
              "    }\n",
              "\n",
              "    .dataframe thead th {\n",
              "        text-align: right;\n",
              "    }\n",
              "</style>\n",
              "<table border=\"1\" class=\"dataframe\">\n",
              "  <thead>\n",
              "    <tr style=\"text-align: right;\">\n",
              "      <th></th>\n",
              "      <th>iso</th>\n",
              "      <th>wf</th>\n",
              "      <th>lemma</th>\n",
              "      <th>pos</th>\n",
              "      <th>tags</th>\n",
              "    </tr>\n",
              "  </thead>\n",
              "  <tbody>\n",
              "    <tr>\n",
              "      <th>0</th>\n",
              "      <td>srd</td>\n",
              "      <td>эм</td>\n",
              "      <td>эм</td>\n",
              "      <td>NOUN</td>\n",
              "      <td>Case=Nom</td>\n",
              "    </tr>\n",
              "    <tr>\n",
              "      <th>1</th>\n",
              "      <td>srd</td>\n",
              "      <td>болганды</td>\n",
              "      <td>бол</td>\n",
              "      <td>VERB</td>\n",
              "      <td>Aspect=Perf|Number=Sing|Person=3|Tense=Past|Va...</td>\n",
              "    </tr>\n",
              "    <tr>\n",
              "      <th>2</th>\n",
              "      <td>srd</td>\n",
              "      <td>болганды</td>\n",
              "      <td>болган</td>\n",
              "      <td>NOUN</td>\n",
              "      <td>Case=Acc</td>\n",
              "    </tr>\n",
              "    <tr>\n",
              "      <th>3</th>\n",
              "      <td>srd</td>\n",
              "      <td>болганды</td>\n",
              "      <td>болганды</td>\n",
              "      <td>ADJ</td>\n",
              "      <td>_</td>\n",
              "    </tr>\n",
              "    <tr>\n",
              "      <th>4</th>\n",
              "      <td>srd</td>\n",
              "      <td>кёре</td>\n",
              "      <td>кёр</td>\n",
              "      <td>VERB</td>\n",
              "      <td>Aspect=Imp|Valency=2|VerbForm=Conv</td>\n",
              "    </tr>\n",
              "  </tbody>\n",
              "</table>\n",
              "</div>"
            ],
            "text/plain": [
              "   iso        wf     lemma   pos  \\\n",
              "0  srd        эм        эм  NOUN   \n",
              "1  srd  болганды       бол  VERB   \n",
              "2  srd  болганды    болган  NOUN   \n",
              "3  srd  болганды  болганды   ADJ   \n",
              "4  srd      кёре       кёр  VERB   \n",
              "\n",
              "                                                tags  \n",
              "0                                           Case=Nom  \n",
              "1  Aspect=Perf|Number=Sing|Person=3|Tense=Past|Va...  \n",
              "2                                           Case=Acc  \n",
              "3                                                  _  \n",
              "4                 Aspect=Imp|Valency=2|VerbForm=Conv  "
            ]
          },
          "metadata": {
            "tags": []
          },
          "execution_count": 159
        }
      ]
    },
    {
      "metadata": {
        "id": "SKT6JM9Fzp3O",
        "colab_type": "code",
        "colab": {
          "base_uri": "https://localhost:8080/",
          "height": 115
        },
        "outputId": "ec1cc2aa-13c4-48c5-bfd7-95d787c87344"
      },
      "cell_type": "code",
      "source": [
        "calm = calm[calm.tags != 'bad_verb']\n",
        "calm.tags.value_counts()[:5]"
      ],
      "execution_count": 160,
      "outputs": [
        {
          "output_type": "execute_result",
          "data": {
            "text/plain": [
              "Case=Nom                                          3014\n",
              "Case=Acc                                          1554\n",
              "Case=Nom|Number[psor]=Sing,Plur|Person[psor]=3    1146\n",
              "_                                                 1145\n",
              "Case=Loc                                           930\n",
              "Name: tags, dtype: int64"
            ]
          },
          "metadata": {
            "tags": []
          },
          "execution_count": 160
        }
      ]
    },
    {
      "metadata": {
        "id": "jFx5A5P-27Zb",
        "colab_type": "code",
        "colab": {
          "base_uri": "https://localhost:8080/",
          "height": 115
        },
        "outputId": "f113a9d9-2c51-4db3-e3bb-db6b1a4a1c10"
      },
      "cell_type": "code",
      "source": [
        "my_model_predictions = pd.concat([calm, tmp])\n",
        "my_model_predictions.tags.value_counts()[:5]"
      ],
      "execution_count": 161,
      "outputs": [
        {
          "output_type": "execute_result",
          "data": {
            "text/plain": [
              "Case=Nom                                          3536\n",
              "Case=Acc                                          1788\n",
              "_                                                 1307\n",
              "Case=Nom|Number[psor]=Sing,Plur|Person[psor]=3    1255\n",
              "Case=Loc                                          1199\n",
              "Name: tags, dtype: int64"
            ]
          },
          "metadata": {
            "tags": []
          },
          "execution_count": 161
        }
      ]
    },
    {
      "metadata": {
        "id": "RLxvQ4TW5ZlF",
        "colab_type": "code",
        "colab": {
          "base_uri": "https://localhost:8080/",
          "height": 201
        },
        "outputId": "2752c3e8-5870-409c-e5d7-4f8d3ee98f33"
      },
      "cell_type": "code",
      "source": [
        "my_model_predictions.head()"
      ],
      "execution_count": 162,
      "outputs": [
        {
          "output_type": "execute_result",
          "data": {
            "text/html": [
              "<div>\n",
              "<style scoped>\n",
              "    .dataframe tbody tr th:only-of-type {\n",
              "        vertical-align: middle;\n",
              "    }\n",
              "\n",
              "    .dataframe tbody tr th {\n",
              "        vertical-align: top;\n",
              "    }\n",
              "\n",
              "    .dataframe thead th {\n",
              "        text-align: right;\n",
              "    }\n",
              "</style>\n",
              "<table border=\"1\" class=\"dataframe\">\n",
              "  <thead>\n",
              "    <tr style=\"text-align: right;\">\n",
              "      <th></th>\n",
              "      <th>iso</th>\n",
              "      <th>wf</th>\n",
              "      <th>lemma</th>\n",
              "      <th>pos</th>\n",
              "      <th>tags</th>\n",
              "    </tr>\n",
              "  </thead>\n",
              "  <tbody>\n",
              "    <tr>\n",
              "      <th>0</th>\n",
              "      <td>srd</td>\n",
              "      <td>джыл</td>\n",
              "      <td>джыл</td>\n",
              "      <td>NOUN</td>\n",
              "      <td>Case=Nom</td>\n",
              "    </tr>\n",
              "    <tr>\n",
              "      <th>1</th>\n",
              "      <td>srd</td>\n",
              "      <td>джыл</td>\n",
              "      <td>джыл</td>\n",
              "      <td>ADJ</td>\n",
              "      <td>_</td>\n",
              "    </tr>\n",
              "    <tr>\n",
              "      <th>2</th>\n",
              "      <td>srd</td>\n",
              "      <td>эм</td>\n",
              "      <td>эм</td>\n",
              "      <td>NOUN</td>\n",
              "      <td>Case=Nom</td>\n",
              "    </tr>\n",
              "    <tr>\n",
              "      <th>4</th>\n",
              "      <td>srd</td>\n",
              "      <td>джылны</td>\n",
              "      <td>джыл</td>\n",
              "      <td>NOUN</td>\n",
              "      <td>Case=Acc</td>\n",
              "    </tr>\n",
              "    <tr>\n",
              "      <th>6</th>\n",
              "      <td>srd</td>\n",
              "      <td>дери</td>\n",
              "      <td>дер</td>\n",
              "      <td>NOUN</td>\n",
              "      <td>Case=Nom|Number[psor]=Sing,Plur|Person[psor]=3</td>\n",
              "    </tr>\n",
              "  </tbody>\n",
              "</table>\n",
              "</div>"
            ],
            "text/plain": [
              "   iso      wf lemma   pos                                            tags\n",
              "0  srd    джыл  джыл  NOUN                                        Case=Nom\n",
              "1  srd    джыл  джыл   ADJ                                               _\n",
              "2  srd      эм    эм  NOUN                                        Case=Nom\n",
              "4  srd  джылны  джыл  NOUN                                        Case=Acc\n",
              "6  srd    дери   дер  NOUN  Case=Nom|Number[psor]=Sing,Plur|Person[psor]=3"
            ]
          },
          "metadata": {
            "tags": []
          },
          "execution_count": 162
        }
      ]
    },
    {
      "metadata": {
        "id": "QKA0sgiO6V_1",
        "colab_type": "code",
        "colab": {}
      },
      "cell_type": "code",
      "source": [
        "my_model_predictions.to_csv('spectie.txt', sep='\\t', header=False, index=False, encoding='utf-8')\n",
        "files.download('spectie.txt')"
      ],
      "execution_count": 0,
      "outputs": []
    },
    {
      "metadata": {
        "id": "fr4SyxJtyQYw",
        "colab_type": "code",
        "colab": {}
      },
      "cell_type": "code",
      "source": [
        "srd_transliteration = dict(zip(srd_words, [line.strip().split('\\t')[1] for line in open('roa-covered', 'r')]))"
      ],
      "execution_count": 0,
      "outputs": []
    },
    {
      "metadata": {
        "id": "e7hvgumF5mG3",
        "colab_type": "code",
        "colab": {}
      },
      "cell_type": "code",
      "source": [
        "for non_tr in srd_transliteration.keys():\n",
        "  my_model_predictions['wf'] = my_model_predictions.wf.str.replace(non_tr, srd_transliteration[non_tr])\n"
      ],
      "execution_count": 0,
      "outputs": []
    },
    {
      "metadata": {
        "id": "pfY2UPwJ9uX1",
        "colab_type": "code",
        "colab": {}
      },
      "cell_type": "code",
      "source": [
        "import re\n",
        "\n",
        "\n",
        "def clean(text):\n",
        "  text = re.sub('ъ+', 'ъ', text)\n",
        "  return text\n",
        "  \n",
        "my_model_predictions['wf'] = my_model_predictions['wf'].apply(clean)"
      ],
      "execution_count": 0,
      "outputs": []
    },
    {
      "metadata": {
        "id": "3l3yWD_0CWG1",
        "colab_type": "code",
        "colab": {}
      },
      "cell_type": "code",
      "source": [
        "def end_word(word):\n",
        "  word = re.sub('гъ$', 'къ', word)\n",
        "  word = re.sub('къ$', 'къ', word)\n",
        "  return word"
      ],
      "execution_count": 0,
      "outputs": []
    },
    {
      "metadata": {
        "id": "ZojDD-v7Fuod",
        "colab_type": "code",
        "colab": {
          "base_uri": "https://localhost:8080/",
          "height": 32
        },
        "outputId": "cbdc13e9-56bd-4f4c-ebe1-d2cbd3c8e6b5"
      },
      "cell_type": "code",
      "source": [
        "end_word('агъымлаг')"
      ],
      "execution_count": 188,
      "outputs": [
        {
          "output_type": "execute_result",
          "data": {
            "text/plain": [
              "'агъымлаг'"
            ]
          },
          "metadata": {
            "tags": []
          },
          "execution_count": 188
        }
      ]
    }
  ]
}