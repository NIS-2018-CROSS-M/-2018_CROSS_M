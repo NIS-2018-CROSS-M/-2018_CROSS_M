{
 "cells": [
  {
   "cell_type": "code",
   "execution_count": 6,
   "metadata": {},
   "outputs": [
    {
     "name": "stdout",
     "output_type": "stream",
     "text": [
      "insert a word in cyrillic: куку\n",
      "(('kuku', 0.0),)\n"
     ]
    }
   ],
   "source": [
    "#Serbian transliterator\n",
    "import hfst\n",
    "x=input ('insert a word in cyrillic: ')\n",
    "cyrillic = 'абвгдђежзиjклљмнњопрстћуфхцчџш'\n",
    "translit = ['a','b','v','g','d','đ','e','ž','z','i','j',\\\n",
    "            'k','l','lj','m','n','nj','o','p','r','s','t',\\\n",
    "            'ć','u','f','h','c','č','dž','š']\n",
    "\n",
    "regexes = []\n",
    "for i in range(len(cyrillic)):\n",
    "    regexes.append(hfst.regex(' {0} -> {1} || _'.format(cyrillic[i], translit[i])))\n",
    "tr = regexes[0]\n",
    "for reg in regexes[1:]:\n",
    "    #print(reg) (uncomment this line if you want full info)\n",
    "    tr.compose(reg)\n",
    "print(tr.lookup(x))\n"
   ]
  },
  {
   "cell_type": "markdown",
   "metadata": {},
   "source": [
    "Cyrillic\tLatin\tIPA value\n",
    "А а\tA a\t/a/\n",
    "Б б\tB b\t/b/\n",
    "В в\tV v\t/v/\n",
    "Г г\tG g\t/ɡ/\n",
    "Д д\tD d\t/d/\n",
    "Ђ ђ\tĐ đ\t/dʑ/\n",
    "Е е\tE e\t/e/\n",
    "Ж ж\tŽ ž\t/ʐ/\n",
    "З з\tZ z\t/z/\n",
    "И и\tI i\t/i/\n",
    "Ј ј\tJ j\t/j/\n",
    "К к\tK k\t/k/\n",
    "Л л\tL l\t/l/\n",
    "Љ љ\tLj lj\t/ʎ/\n",
    "М м\tM m\t/m/\n",
    "Н н\tN n\t/n/\n",
    "Њ њ\tNj nj\t/ɲ/\n",
    "О о\tO o\t/o/\n",
    "П п\tP p\t/p/\n",
    "Р р\tR r\t/r/\n",
    "С с\tS s\t/s/\n",
    "Т т\tT t\t/t/\n",
    "Ћ ћ\tĆ ć\t/tɕ/\n",
    "У у\tU u\t/u/\n",
    "Ф ф\tF f\t/f/\n",
    "Х х\tH h\t/x/\n",
    "Ц ц\tC c\t/ts/\n",
    "Ч ч\tČ č\t/tʂ/\n",
    "Џ џ\tDž dž\t/dʐ/\n",
    "Ш ш\tŠ š\t/ʂ/"
   ]
  }
 ],
 "metadata": {
  "kernelspec": {
   "display_name": "Python 3",
   "language": "python",
   "name": "python3"
  },
  "language_info": {
   "codemirror_mode": {
    "name": "ipython",
    "version": 3
   },
   "file_extension": ".py",
   "mimetype": "text/x-python",
   "name": "python",
   "nbconvert_exporter": "python",
   "pygments_lexer": "ipython3",
   "version": "3.7.0"
  }
 },
 "nbformat": 4,
 "nbformat_minor": 2
}
